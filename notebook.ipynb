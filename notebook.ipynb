{
 "cells": [
  {
   "cell_type": "code",
   "metadata": {
    "tags": [],
    "cell_id": "00000-a2f9abab-aae8-49a1-9891-336c6680bf7f",
    "deepnote_to_be_reexecuted": false,
    "source_hash": "aa5e15c4",
    "execution_start": 1656084361742,
    "execution_millis": 14720,
    "deepnote_app_coordinates": {
     "x": 0,
     "y": 0,
     "w": 12,
     "h": 5
    },
    "is_code_hidden": false,
    "deepnote_cell_type": "code",
    "deepnote_cell_height": 225
   },
   "source": "#imported\nimport nltk\nfrom nltk.stem import PorterStemmer\nfrom nltk.stem import LancasterStemmer\nimport json\nimport numpy\nimport os\nimport shutil\nimport tensorflow as tf",
   "outputs": [],
   "execution_count": null
  },
  {
   "cell_type": "code",
   "metadata": {
    "tags": [],
    "cell_id": "00001-7448e37c-7290-4257-9b50-5ffa2abc060d",
    "deepnote_to_be_reexecuted": false,
    "source_hash": "96950d44",
    "execution_start": 1656084376465,
    "execution_millis": 12,
    "is_code_hidden": false,
    "deepnote_cell_type": "code",
    "deepnote_cell_height": 207
   },
   "source": "def import_data(jfile='/work/Legion - The AI powered ChatBot/intents.json'):\n    '''\n    This will load intents file\n    intents={tag,patterns,responses,context_set}\n    '''\n    with open(jfile) as file1:\n        ds=json.load(file1)\n    return ds",
   "outputs": [],
   "execution_count": null
  },
  {
   "cell_type": "code",
   "metadata": {
    "tags": [],
    "cell_id": "00002-ce31fadd-a423-4053-b63e-00685fd51fb1",
    "deepnote_to_be_reexecuted": false,
    "source_hash": "465e639b",
    "execution_start": 1656084376487,
    "execution_millis": 37,
    "is_code_hidden": false,
    "deepnote_cell_type": "code",
    "deepnote_cell_height": 423
   },
   "source": "\ndef tokenize_words(ds):\n    words=[]\n    intents_x=[]\n    intent_tags=[]\n    intents_y=[] \n    for intents in ds:\n        #print(intents)\n        intent_tags.append(intents['tag'])\n        for t in intents['patterns']+intents['responses']: #to consider Q&A both\n            tokens=nltk.regexp_tokenize(t,\"[\\w']+\")\n            words.extend(tokens)\n            intents_x.append(tokens)\n            intents_y.append(intents[\"tag\"])\n       \n    \n        \n    intent_tags=sorted(intent_tags)\n    return (words,intents_x,intents_y,intent_tags)\n    ",
   "outputs": [],
   "execution_count": null
  },
  {
   "cell_type": "code",
   "metadata": {
    "tags": [],
    "cell_id": "00003-58a497ee-a83a-40a3-acff-976c00d23573",
    "deepnote_to_be_reexecuted": false,
    "source_hash": "3da26931",
    "execution_start": 1656084376530,
    "execution_millis": 27,
    "is_code_hidden": false,
    "deepnote_cell_type": "code",
    "deepnote_cell_height": 134.1875
   },
   "source": "data=import_data()\nprint(data)",
   "outputs": [
    {
     "name": "stdout",
     "text": "[{'tag': 'greeting', 'patterns': ['Hi', 'How are you', 'Is anyone there', 'namaste', 'Hello', 'Good day', 'Good Morning', 'Whats Up', 'Good Day', 'Good Afternoon', 'Good Evening'], 'responses': ['Hello!', 'Good to See you Again!', 'Hi there,how can I help?'], 'context_set': ''}, {'tag': 'goodbye', 'patterns': ['cya', 'Goodbye', 'Bye', 'I am Leaving', 'Have a Good Day'], 'responses': ['Sad to see you go :(', 'Talk to you later', 'GoodBye!', 'Nice to talk to you,Bye'], 'context_set': ''}, {'tag': 'age', 'patterns': ['how old', 'How old are you?', 'What is your age', 'How old are you', 'age?'], 'responses': ['I am ageless. I am eternal.', 'I am eternal', 'I am forever. '], 'context_set': ''}, {'tag': 'name', 'patterns': ['what is your name', 'What should i call you', 'whats your name', 'name,please?'], 'responses': ['You can call me Legion', 'I am Legion', \"I'm Legion -  The AI powered ChatBot \"], 'context_set': ''}, {'tag': 'greeting', 'patterns': ['Hi there', 'How are you', 'Is anyone there?', 'Hey', 'Hola', 'Hello', 'Good day'], 'responses': ['Hello, thanks for asking', 'Good to see you again', 'Hi there, how can I help?'], 'context': ['']}, {'tag': 'goodbye', 'patterns': ['Bye', 'See you later', 'Goodbye', 'Nice chatting to you, bye', 'Till next time'], 'responses': ['See you!', 'Have a nice day', 'Bye! Come back again soon.'], 'context': ['']}, {'tag': 'thanks', 'patterns': ['Thanks', 'Thank you', \"That's helpful\", 'Awesome, thanks', 'Thanks for helping me'], 'responses': ['Happy to help!', 'Any time!', 'My pleasure'], 'context': ['']}, {'tag': 'noanswer', 'patterns': [], 'responses': [\"Sorry, can't understand you\", 'Please give me more info', 'Not sure I understand'], 'context': ['']}, {'tag': 'options', 'patterns': ['How you could help me?', 'What help you provide?', 'How you can be helpful?'], 'responses': ['I can guide you through Adverse management problems, order tracking, person to be contacted and Department related queries', 'I can provide support related to following problems technical query,management related query,order related query,tracking related query,procurement query,outsourcing problem,manufacturing delay,'], 'context': ['']}, {'tag': 'order_tracking', 'patterns': ['where is order with id 431B67?', 'track order 562B78', 'Where is my order with id 561A24?'], 'responses': ['Delayed', 'Dispatched', 'On the Way!'], 'context': ['']}, {'tag': 'order_components', 'patterns': ['order id 345A23 comprises of?', 'List of components'], 'responses': ['order comprises of hardisk and bluetooth'], 'context': ['']}, {'tag': 'missing_id', 'patterns': ['where is the order', 'where is my order', 'locate the order', 'Delivery date of order'], 'responses': ['Please enter with order ID'], 'context': ['']}, {'tag': 'Location', 'patterns': ['find order location 32712', 'What is the Location of order 23A31?'], 'responses': ['It is in germany', 'It is in Berlin', 'It has reached china', 'It has reached Banglore'], 'context': ['']}, {'tag': 'search_person_by_id', 'patterns': ['I want an appoitment with Manoj kumar', 'set an appointment with Sujata Nandi'], 'responses': ['Fixing an appointment.'], 'context': ['']}, {'tag': 'appointment status', 'patterns': ['Is my appointment fixed?', 'Do I have an appointment today?'], 'responses': ['Yes', 'NO! Not Yet'], 'context': ['']}, {'tag': 'check_leave', 'patterns': ['Is Sujata Nandi on leave?', 'Is Manish Kumar on leave?'], 'responses': ['No Not On Leave', 'Yes On Leave'], 'context': ['']}, {'tag': 'cost_lowering', 'patterns': ['Cost Lowering changes to be made?', 'what changes could lower cost?'], 'responses': ['Increase Transportation capacity utilisation,Increase supply chain velocity,Reduce order variability'], 'context': ['']}, {'tag': 'forgot_password', 'patterns': ['I forgot my Login password?', 'what to do when someone forgets Login password?', 'I forgot my Laptop password', 'Forgot Wifi password'], 'responses': ['Please enter your email id ,we will send a link on your email'], 'context': ['']}, {'tag': 'email_id', 'patterns': ['abx@gmail.com', 'abc@kiit.ac.in'], 'responses': ['Link has been shared.Please change your password'], 'context': ['']}, {'tag': 'manufacturing_problems', 'patterns': ['Find me a manufacturer nearby'], 'responses': ['The nearest manufacturer is Vietnam'], 'context': ['']}, {'tag': 'search_department', 'patterns': ['I want to know the various departments in this company'], 'responses': ['The department are:Projects,IT,Production,OutSource'], 'context': ['']}, {'tag': 'competitors_in_market', 'patterns': ['what are challenging events', 'what are the threats in the market'], 'responses': ['Recent news of Demonetisation & recession'], 'context': ['']}, {'tag': 'key_customers', 'patterns': ['Our Target customers', 'who are your key customers'], 'responses': ['Our target customers are in the range of age 20-40'], 'context': ['']}, {'tag': 'supplier_info', 'patterns': ['What information is shared with supplier?'], 'responses': ['Production Schedule,Delivery Schedule,Proxy information about cost'], 'context': ['']}, {'tag': 'highest_grossing', 'patterns': ['What is the highest grossing product?'], 'responses': ['Laptop with touch sensors and 360 rotation'], 'context': ['']}, {'tag': 'connect_people', 'patterns': ['I want to meet the head of HR/IT/Projects department', 'I want to meet head IT Rakesh sharma.'], 'responses': ['I will just check if he is available or on leave.'], 'context': ['search_attendance_database_name_post']}, {'tag': 'project_handling_queries', 'patterns': ['complaint has been raised for Insufficient Team Skills', 'Miscommunication Conflicts needs to be resolved', 'Risk Management issue has occured', 'skilled employees needed urgently'], 'responses': ['Please contact the project depatment'], 'context': ['']}, {'tag': 'solve_problems', 'patterns': ['Lack of product clarity', 'the specifications of product is not clear to customer. what should we do'], 'responses': ['Please enter product id and customer id.specifications shall be sent to user'], 'context': ['']}, {'tag': 'version_update', 'patterns': ['user needs the updated software version', 'user demands software updation'], 'responses': ['version updation request raised'], 'context': ['']}, {'tag': 'HR_related_problem', 'patterns': ['problem related to Job design and analysis', 'query based on Workforce planning', 'Training and development issues are to be handled', 'Compensation and benefits of the working employee', 'Legal issues of department like accidents in the company'], 'responses': ['Please Contact the HR team for this problem.'], 'context': ['']}, {'tag': 'factors_impacting_sale', 'patterns': ['Impact on sale?', 'factors impacting sale this year?'], 'responses': ['elections will impact our sale this year', 'this year our sale might increase during durga puja', 'this year sale might be impacted due to demonitisation'], 'context': ['']}, {'tag': 'predict_performance', 'patterns': ['how have we improved our sale from last year?', 'what is the profit this year?'], 'responses': ['we have improved our sale by increasing our customers upto 2 lakh', 'profit earned is 15%'], 'context': ['']}, {'tag': 'customer_satisfaction', 'patterns': ['how was the customer response', 'Is the customer happy?', 'what was the customer feedback?'], 'responses': ['Customer was happy and has given good rating'], 'context': ['']}, {'tag': 'maintainence', 'patterns': ['maintainence related queries recorded'], 'responses': ['lift is not working, projector misfuctioning'], 'context': ['']}, {'tag': 'gadgets', 'patterns': ['what are the gadgets in stock?', 'which products we have?'], 'responses': ['hardisk,pendrives, wireless bluetooth,Laptops,Gaming Accessories'], 'context': ['']}, {'tag': 'commission', 'patterns': ['what is the Commission rate?', 'Commission rate on each product?'], 'responses': ['Commission rate is 5% on laptops,25%on bluetooth device,10% on Desktop'], 'context': ['']}, {'tag': 'invalid', 'patterns': ['Marry me', 'I love You', 'date me', 'chat with me', 'I am bored'], 'responses': ['Please ask organisation related query.'], 'context': ['']}, {'tag': 'noans', 'patterns': ['why', 'how', 'when', 'I', 'you'], 'responses': [\"Can't Understand Your Question\", 'please elaborate your question'], 'context': ['']}, {'tag': 'turnover', 'patterns': ['what is the turnover of the company at present?'], 'responses': ['10 Million Ton'], 'context': ['']}, {'tag': 'predict_delay', 'patterns': ['why is order 23A12 delayed'], 'responses': ['delay is due to manufacuring', 'Delay is due to inavailable components'], 'context': ['']}, {'tag': 'predict_delay', 'patterns': ['why is order 23A12 delayed'], 'responses': ['delay is due to manufacuring', 'Delay is due to inavailable components'], 'context': ['']}, {'tag': 'name', 'patterns': ['what is your name?', 'what should I call you?'], 'responses': [\"I'm Bruno\", \"Hey!I'm Bruno\"], 'context': ['']}, {'tag': 'about', 'patterns': ['how you doing?', 'how are you'], 'responses': ['Thanks For Asking!', 'How can I help you?'], 'context': ['']}, {'tag': 'configuration', 'patterns': ['How to configure my laptop', 'software configuration of laptop', 'steps to configure laptop', 'How to configure my computer', 'software configuration of computer', 'steps to configure computer', 'How to configure my desktop', 'software configuration of desktop', 'steps to configure desktop'], 'responses': ['search tab->control panel->select specific application->download update->give permission'], 'context': ['']}, {'tag': 'Weather', 'patterns': ['what is the weather today?'], 'responses': [\"It's 36C according to accuweather\"], 'context': ['']}, {'tag': 'leave', 'patterns': ['Is Michel Sharma on leave?', 'Is Siddhart Roy present today?', 'Is Shantanu Bhatt in office?'], 'responses': [\"Give me a moment!I'll just check\", 'yes', 'no'], 'context': ['']}, {'tag': 'hours', 'patterns': ['Opening hours of the cafeteria?', 'when does the cafeteria open', 'office canteen opening time'], 'responses': ['It is open from Monday-Saturday 9:00am-7:30pm'], 'context': ['']}, {'tag': 'cabin', 'patterns': ['where is VP cabin?', 'Where is Head IT cabin?', 'Where is AI department', 'Where is Project head department?', 'where is cafeteria', 'guide me to the canteen'], 'responses': ['Block-A 3rd floor 1st room', 'Block-B 2nd Floor', 'Block-D Ground Floor'], 'context': ['']}, {'tag': 'domain', 'patterns': ['How to improve team members domain knowledge', 'improving domain knowledge of team members'], 'responses': ['set up key meetings and workshop,create a shared drive for information,Hold informal sharing session'], 'context': ['']}, {'tag': 'joke', 'patterns': ['Tell me a joke'], 'responses': [\"A perfectionist walked into a bar...apparently, the bar wasn't set high enough\", 'I ate a clock yesterday, it was very time-consuming', \"Never criticize someone until you've walked a mile in their shoes. That way, when you criticize them, they won't be able to hear you from that far away. Plus, you'll have their shoes.\", \"The world tongue-twister champion just got arrested. I hear they're gonna give him a really tough sentence.\", \"I own the world's worst thesaurus. Not only is it awful, it's awful.\", 'What did the traffic light say to the car? \"Don\\'t look now, I\\'m changing.\"', 'What do you call a snowman with a suntan? A puddle.', 'How does a penguin build a house? Igloos it together', 'I went to see the doctor about my short-term memory problems – the first thing he did was make me pay in advance', 'As I get older and I remember all the people I’ve lost along the way, I think to myself, maybe a career as a tour guide wasn’t for me.', \"o what if I don't know what 'Armageddon' means? It's not the end of the world.\"], 'context': ['']}]\n",
     "output_type": "stream"
    }
   ],
   "execution_count": null
  },
  {
   "cell_type": "code",
   "metadata": {
    "tags": [],
    "cell_id": "00004-9d1acb35-2de2-4a84-a3c3-9af78f56bba4",
    "deepnote_to_be_reexecuted": false,
    "source_hash": "da479e4c",
    "execution_start": 1656084376566,
    "execution_millis": 15,
    "is_code_hidden": false,
    "deepnote_cell_type": "code",
    "deepnote_cell_height": 265.28125
   },
   "source": "words,xdata,ydata,tag=tokenize_words(data)\nprint(\"words\",words)\nprint(\"x:\",xdata)\nprint(\"y:\",ydata)\nprint(\"t:\",tag)\n",
   "outputs": [
    {
     "name": "stdout",
     "text": "words ['Hi', 'How', 'are', 'you', 'Is', 'anyone', 'there', 'namaste', 'Hello', 'Good', 'day', 'Good', 'Morning', 'Whats', 'Up', 'Good', 'Day', 'Good', 'Afternoon', 'Good', 'Evening', 'Hello', 'Good', 'to', 'See', 'you', 'Again', 'Hi', 'there', 'how', 'can', 'I', 'help', 'cya', 'Goodbye', 'Bye', 'I', 'am', 'Leaving', 'Have', 'a', 'Good', 'Day', 'Sad', 'to', 'see', 'you', 'go', 'Talk', 'to', 'you', 'later', 'GoodBye', 'Nice', 'to', 'talk', 'to', 'you', 'Bye', 'how', 'old', 'How', 'old', 'are', 'you', 'What', 'is', 'your', 'age', 'How', 'old', 'are', 'you', 'age', 'I', 'am', 'ageless', 'I', 'am', 'eternal', 'I', 'am', 'eternal', 'I', 'am', 'forever', 'what', 'is', 'your', 'name', 'What', 'should', 'i', 'call', 'you', 'whats', 'your', 'name', 'name', 'please', 'You', 'can', 'call', 'me', 'Legion', 'I', 'am', 'Legion', \"I'm\", 'Legion', 'The', 'AI', 'powered', 'ChatBot', 'Hi', 'there', 'How', 'are', 'you', 'Is', 'anyone', 'there', 'Hey', 'Hola', 'Hello', 'Good', 'day', 'Hello', 'thanks', 'for', 'asking', 'Good', 'to', 'see', 'you', 'again', 'Hi', 'there', 'how', 'can', 'I', 'help', 'Bye', 'See', 'you', 'later', 'Goodbye', 'Nice', 'chatting', 'to', 'you', 'bye', 'Till', 'next', 'time', 'See', 'you', 'Have', 'a', 'nice', 'day', 'Bye', 'Come', 'back', 'again', 'soon', 'Thanks', 'Thank', 'you', \"That's\", 'helpful', 'Awesome', 'thanks', 'Thanks', 'for', 'helping', 'me', 'Happy', 'to', 'help', 'Any', 'time', 'My', 'pleasure', 'Sorry', \"can't\", 'understand', 'you', 'Please', 'give', 'me', 'more', 'info', 'Not', 'sure', 'I', 'understand', 'How', 'you', 'could', 'help', 'me', 'What', 'help', 'you', 'provide', 'How', 'you', 'can', 'be', 'helpful', 'I', 'can', 'guide', 'you', 'through', 'Adverse', 'management', 'problems', 'order', 'tracking', 'person', 'to', 'be', 'contacted', 'and', 'Department', 'related', 'queries', 'I', 'can', 'provide', 'support', 'related', 'to', 'following', 'problems', 'technical', 'query', 'management', 'related', 'query', 'order', 'related', 'query', 'tracking', 'related', 'query', 'procurement', 'query', 'outsourcing', 'problem', 'manufacturing', 'delay', 'where', 'is', 'order', 'with', 'id', '431B67', 'track', 'order', '562B78', 'Where', 'is', 'my', 'order', 'with', 'id', '561A24', 'Delayed', 'Dispatched', 'On', 'the', 'Way', 'order', 'id', '345A23', 'comprises', 'of', 'List', 'of', 'components', 'order', 'comprises', 'of', 'hardisk', 'and', 'bluetooth', 'where', 'is', 'the', 'order', 'where', 'is', 'my', 'order', 'locate', 'the', 'order', 'Delivery', 'date', 'of', 'order', 'Please', 'enter', 'with', 'order', 'ID', 'find', 'order', 'location', '32712', 'What', 'is', 'the', 'Location', 'of', 'order', '23A31', 'It', 'is', 'in', 'germany', 'It', 'is', 'in', 'Berlin', 'It', 'has', 'reached', 'china', 'It', 'has', 'reached', 'Banglore', 'I', 'want', 'an', 'appoitment', 'with', 'Manoj', 'kumar', 'set', 'an', 'appointment', 'with', 'Sujata', 'Nandi', 'Fixing', 'an', 'appointment', 'Is', 'my', 'appointment', 'fixed', 'Do', 'I', 'have', 'an', 'appointment', 'today', 'Yes', 'NO', 'Not', 'Yet', 'Is', 'Sujata', 'Nandi', 'on', 'leave', 'Is', 'Manish', 'Kumar', 'on', 'leave', 'No', 'Not', 'On', 'Leave', 'Yes', 'On', 'Leave', 'Cost', 'Lowering', 'changes', 'to', 'be', 'made', 'what', 'changes', 'could', 'lower', 'cost', 'Increase', 'Transportation', 'capacity', 'utilisation', 'Increase', 'supply', 'chain', 'velocity', 'Reduce', 'order', 'variability', 'I', 'forgot', 'my', 'Login', 'password', 'what', 'to', 'do', 'when', 'someone', 'forgets', 'Login', 'password', 'I', 'forgot', 'my', 'Laptop', 'password', 'Forgot', 'Wifi', 'password', 'Please', 'enter', 'your', 'email', 'id', 'we', 'will', 'send', 'a', 'link', 'on', 'your', 'email', 'abx', 'gmail', 'com', 'abc', 'kiit', 'ac', 'in', 'Link', 'has', 'been', 'shared', 'Please', 'change', 'your', 'password', 'Find', 'me', 'a', 'manufacturer', 'nearby', 'The', 'nearest', 'manufacturer', 'is', 'Vietnam', 'I', 'want', 'to', 'know', 'the', 'various', 'departments', 'in', 'this', 'company', 'The', 'department', 'are', 'Projects', 'IT', 'Production', 'OutSource', 'what', 'are', 'challenging', 'events', 'what', 'are', 'the', 'threats', 'in', 'the', 'market', 'Recent', 'news', 'of', 'Demonetisation', 'recession', 'Our', 'Target', 'customers', 'who', 'are', 'your', 'key', 'customers', 'Our', 'target', 'customers', 'are', 'in', 'the', 'range', 'of', 'age', '20', '40', 'What', 'information', 'is', 'shared', 'with', 'supplier', 'Production', 'Schedule', 'Delivery', 'Schedule', 'Proxy', 'information', 'about', 'cost', 'What', 'is', 'the', 'highest', 'grossing', 'product', 'Laptop', 'with', 'touch', 'sensors', 'and', '360', 'rotation', 'I', 'want', 'to', 'meet', 'the', 'head', 'of', 'HR', 'IT', 'Projects', 'department', 'I', 'want', 'to', 'meet', 'head', 'IT', 'Rakesh', 'sharma', 'I', 'will', 'just', 'check', 'if', 'he', 'is', 'available', 'or', 'on', 'leave', 'complaint', 'has', 'been', 'raised', 'for', 'Insufficient', 'Team', 'Skills', 'Miscommunication', 'Conflicts', 'needs', 'to', 'be', 'resolved', 'Risk', 'Management', 'issue', 'has', 'occured', 'skilled', 'employees', 'needed', 'urgently', 'Please', 'contact', 'the', 'project', 'depatment', 'Lack', 'of', 'product', 'clarity', 'the', 'specifications', 'of', 'product', 'is', 'not', 'clear', 'to', 'customer', 'what', 'should', 'we', 'do', 'Please', 'enter', 'product', 'id', 'and', 'customer', 'id', 'specifications', 'shall', 'be', 'sent', 'to', 'user', 'user', 'needs', 'the', 'updated', 'software', 'version', 'user', 'demands', 'software', 'updation', 'version', 'updation', 'request', 'raised', 'problem', 'related', 'to', 'Job', 'design', 'and', 'analysis', 'query', 'based', 'on', 'Workforce', 'planning', 'Training', 'and', 'development', 'issues', 'are', 'to', 'be', 'handled', 'Compensation', 'and', 'benefits', 'of', 'the', 'working', 'employee', 'Legal', 'issues', 'of', 'department', 'like', 'accidents', 'in', 'the', 'company', 'Please', 'Contact', 'the', 'HR', 'team', 'for', 'this', 'problem', 'Impact', 'on', 'sale', 'factors', 'impacting', 'sale', 'this', 'year', 'elections', 'will', 'impact', 'our', 'sale', 'this', 'year', 'this', 'year', 'our', 'sale', 'might', 'increase', 'during', 'durga', 'puja', 'this', 'year', 'sale', 'might', 'be', 'impacted', 'due', 'to', 'demonitisation', 'how', 'have', 'we', 'improved', 'our', 'sale', 'from', 'last', 'year', 'what', 'is', 'the', 'profit', 'this', 'year', 'we', 'have', 'improved', 'our', 'sale', 'by', 'increasing', 'our', 'customers', 'upto', '2', 'lakh', 'profit', 'earned', 'is', '15', 'how', 'was', 'the', 'customer', 'response', 'Is', 'the', 'customer', 'happy', 'what', 'was', 'the', 'customer', 'feedback', 'Customer', 'was', 'happy', 'and', 'has', 'given', 'good', 'rating', 'maintainence', 'related', 'queries', 'recorded', 'lift', 'is', 'not', 'working', 'projector', 'misfuctioning', 'what', 'are', 'the', 'gadgets', 'in', 'stock', 'which', 'products', 'we', 'have', 'hardisk', 'pendrives', 'wireless', 'bluetooth', 'Laptops', 'Gaming', 'Accessories', 'what', 'is', 'the', 'Commission', 'rate', 'Commission', 'rate', 'on', 'each', 'product', 'Commission', 'rate', 'is', '5', 'on', 'laptops', '25', 'on', 'bluetooth', 'device', '10', 'on', 'Desktop', 'Marry', 'me', 'I', 'love', 'You', 'date', 'me', 'chat', 'with', 'me', 'I', 'am', 'bored', 'Please', 'ask', 'organisation', 'related', 'query', 'why', 'how', 'when', 'I', 'you', \"Can't\", 'Understand', 'Your', 'Question', 'please', 'elaborate', 'your', 'question', 'what', 'is', 'the', 'turnover', 'of', 'the', 'company', 'at', 'present', '10', 'Million', 'Ton', 'why', 'is', 'order', '23A12', 'delayed', 'delay', 'is', 'due', 'to', 'manufacuring', 'Delay', 'is', 'due', 'to', 'inavailable', 'components', 'why', 'is', 'order', '23A12', 'delayed', 'delay', 'is', 'due', 'to', 'manufacuring', 'Delay', 'is', 'due', 'to', 'inavailable', 'components', 'what', 'is', 'your', 'name', 'what', 'should', 'I', 'call', 'you', \"I'm\", 'Bruno', 'Hey', \"I'm\", 'Bruno', 'how', 'you', 'doing', 'how', 'are', 'you', 'Thanks', 'For', 'Asking', 'How', 'can', 'I', 'help', 'you', 'How', 'to', 'configure', 'my', 'laptop', 'software', 'configuration', 'of', 'laptop', 'steps', 'to', 'configure', 'laptop', 'How', 'to', 'configure', 'my', 'computer', 'software', 'configuration', 'of', 'computer', 'steps', 'to', 'configure', 'computer', 'How', 'to', 'configure', 'my', 'desktop', 'software', 'configuration', 'of', 'desktop', 'steps', 'to', 'configure', 'desktop', 'search', 'tab', 'control', 'panel', 'select', 'specific', 'application', 'download', 'update', 'give', 'permission', 'what', 'is', 'the', 'weather', 'today', \"It's\", '36C', 'according', 'to', 'accuweather', 'Is', 'Michel', 'Sharma', 'on', 'leave', 'Is', 'Siddhart', 'Roy', 'present', 'today', 'Is', 'Shantanu', 'Bhatt', 'in', 'office', 'Give', 'me', 'a', 'moment', \"I'll\", 'just', 'check', 'yes', 'no', 'Opening', 'hours', 'of', 'the', 'cafeteria', 'when', 'does', 'the', 'cafeteria', 'open', 'office', 'canteen', 'opening', 'time', 'It', 'is', 'open', 'from', 'Monday', 'Saturday', '9', '00am', '7', '30pm', 'where', 'is', 'VP', 'cabin', 'Where', 'is', 'Head', 'IT', 'cabin', 'Where', 'is', 'AI', 'department', 'Where', 'is', 'Project', 'head', 'department', 'where', 'is', 'cafeteria', 'guide', 'me', 'to', 'the', 'canteen', 'Block', 'A', '3rd', 'floor', '1st', 'room', 'Block', 'B', '2nd', 'Floor', 'Block', 'D', 'Ground', 'Floor', 'How', 'to', 'improve', 'team', 'members', 'domain', 'knowledge', 'improving', 'domain', 'knowledge', 'of', 'team', 'members', 'set', 'up', 'key', 'meetings', 'and', 'workshop', 'create', 'a', 'shared', 'drive', 'for', 'information', 'Hold', 'informal', 'sharing', 'session', 'Tell', 'me', 'a', 'joke', 'A', 'perfectionist', 'walked', 'into', 'a', 'bar', 'apparently', 'the', 'bar', \"wasn't\", 'set', 'high', 'enough', 'I', 'ate', 'a', 'clock', 'yesterday', 'it', 'was', 'very', 'time', 'consuming', 'Never', 'criticize', 'someone', 'until', \"you've\", 'walked', 'a', 'mile', 'in', 'their', 'shoes', 'That', 'way', 'when', 'you', 'criticize', 'them', 'they', \"won't\", 'be', 'able', 'to', 'hear', 'you', 'from', 'that', 'far', 'away', 'Plus', \"you'll\", 'have', 'their', 'shoes', 'The', 'world', 'tongue', 'twister', 'champion', 'just', 'got', 'arrested', 'I', 'hear', \"they're\", 'gonna', 'give', 'him', 'a', 'really', 'tough', 'sentence', 'I', 'own', 'the', \"world's\", 'worst', 'thesaurus', 'Not', 'only', 'is', 'it', 'awful', \"it's\", 'awful', 'What', 'did', 'the', 'traffic', 'light', 'say', 'to', 'the', 'car', \"Don't\", 'look', 'now', \"I'm\", 'changing', 'What', 'do', 'you', 'call', 'a', 'snowman', 'with', 'a', 'suntan', 'A', 'puddle', 'How', 'does', 'a', 'penguin', 'build', 'a', 'house', 'Igloos', 'it', 'together', 'I', 'went', 'to', 'see', 'the', 'doctor', 'about', 'my', 'short', 'term', 'memory', 'problems', 'the', 'first', 'thing', 'he', 'did', 'was', 'make', 'me', 'pay', 'in', 'advance', 'As', 'I', 'get', 'older', 'and', 'I', 'remember', 'all', 'the', 'people', 'I', 've', 'lost', 'along', 'the', 'way', 'I', 'think', 'to', 'myself', 'maybe', 'a', 'career', 'as', 'a', 'tour', 'guide', 'wasn', 't', 'for', 'me', 'o', 'what', 'if', 'I', \"don't\", 'know', 'what', \"'Armageddon'\", 'means', \"It's\", 'not', 'the', 'end', 'of', 'the', 'world']\nx: [['Hi'], ['How', 'are', 'you'], ['Is', 'anyone', 'there'], ['namaste'], ['Hello'], ['Good', 'day'], ['Good', 'Morning'], ['Whats', 'Up'], ['Good', 'Day'], ['Good', 'Afternoon'], ['Good', 'Evening'], ['Hello'], ['Good', 'to', 'See', 'you', 'Again'], ['Hi', 'there', 'how', 'can', 'I', 'help'], ['cya'], ['Goodbye'], ['Bye'], ['I', 'am', 'Leaving'], ['Have', 'a', 'Good', 'Day'], ['Sad', 'to', 'see', 'you', 'go'], ['Talk', 'to', 'you', 'later'], ['GoodBye'], ['Nice', 'to', 'talk', 'to', 'you', 'Bye'], ['how', 'old'], ['How', 'old', 'are', 'you'], ['What', 'is', 'your', 'age'], ['How', 'old', 'are', 'you'], ['age'], ['I', 'am', 'ageless', 'I', 'am', 'eternal'], ['I', 'am', 'eternal'], ['I', 'am', 'forever'], ['what', 'is', 'your', 'name'], ['What', 'should', 'i', 'call', 'you'], ['whats', 'your', 'name'], ['name', 'please'], ['You', 'can', 'call', 'me', 'Legion'], ['I', 'am', 'Legion'], [\"I'm\", 'Legion', 'The', 'AI', 'powered', 'ChatBot'], ['Hi', 'there'], ['How', 'are', 'you'], ['Is', 'anyone', 'there'], ['Hey'], ['Hola'], ['Hello'], ['Good', 'day'], ['Hello', 'thanks', 'for', 'asking'], ['Good', 'to', 'see', 'you', 'again'], ['Hi', 'there', 'how', 'can', 'I', 'help'], ['Bye'], ['See', 'you', 'later'], ['Goodbye'], ['Nice', 'chatting', 'to', 'you', 'bye'], ['Till', 'next', 'time'], ['See', 'you'], ['Have', 'a', 'nice', 'day'], ['Bye', 'Come', 'back', 'again', 'soon'], ['Thanks'], ['Thank', 'you'], [\"That's\", 'helpful'], ['Awesome', 'thanks'], ['Thanks', 'for', 'helping', 'me'], ['Happy', 'to', 'help'], ['Any', 'time'], ['My', 'pleasure'], ['Sorry', \"can't\", 'understand', 'you'], ['Please', 'give', 'me', 'more', 'info'], ['Not', 'sure', 'I', 'understand'], ['How', 'you', 'could', 'help', 'me'], ['What', 'help', 'you', 'provide'], ['How', 'you', 'can', 'be', 'helpful'], ['I', 'can', 'guide', 'you', 'through', 'Adverse', 'management', 'problems', 'order', 'tracking', 'person', 'to', 'be', 'contacted', 'and', 'Department', 'related', 'queries'], ['I', 'can', 'provide', 'support', 'related', 'to', 'following', 'problems', 'technical', 'query', 'management', 'related', 'query', 'order', 'related', 'query', 'tracking', 'related', 'query', 'procurement', 'query', 'outsourcing', 'problem', 'manufacturing', 'delay'], ['where', 'is', 'order', 'with', 'id', '431B67'], ['track', 'order', '562B78'], ['Where', 'is', 'my', 'order', 'with', 'id', '561A24'], ['Delayed'], ['Dispatched'], ['On', 'the', 'Way'], ['order', 'id', '345A23', 'comprises', 'of'], ['List', 'of', 'components'], ['order', 'comprises', 'of', 'hardisk', 'and', 'bluetooth'], ['where', 'is', 'the', 'order'], ['where', 'is', 'my', 'order'], ['locate', 'the', 'order'], ['Delivery', 'date', 'of', 'order'], ['Please', 'enter', 'with', 'order', 'ID'], ['find', 'order', 'location', '32712'], ['What', 'is', 'the', 'Location', 'of', 'order', '23A31'], ['It', 'is', 'in', 'germany'], ['It', 'is', 'in', 'Berlin'], ['It', 'has', 'reached', 'china'], ['It', 'has', 'reached', 'Banglore'], ['I', 'want', 'an', 'appoitment', 'with', 'Manoj', 'kumar'], ['set', 'an', 'appointment', 'with', 'Sujata', 'Nandi'], ['Fixing', 'an', 'appointment'], ['Is', 'my', 'appointment', 'fixed'], ['Do', 'I', 'have', 'an', 'appointment', 'today'], ['Yes'], ['NO', 'Not', 'Yet'], ['Is', 'Sujata', 'Nandi', 'on', 'leave'], ['Is', 'Manish', 'Kumar', 'on', 'leave'], ['No', 'Not', 'On', 'Leave'], ['Yes', 'On', 'Leave'], ['Cost', 'Lowering', 'changes', 'to', 'be', 'made'], ['what', 'changes', 'could', 'lower', 'cost'], ['Increase', 'Transportation', 'capacity', 'utilisation', 'Increase', 'supply', 'chain', 'velocity', 'Reduce', 'order', 'variability'], ['I', 'forgot', 'my', 'Login', 'password'], ['what', 'to', 'do', 'when', 'someone', 'forgets', 'Login', 'password'], ['I', 'forgot', 'my', 'Laptop', 'password'], ['Forgot', 'Wifi', 'password'], ['Please', 'enter', 'your', 'email', 'id', 'we', 'will', 'send', 'a', 'link', 'on', 'your', 'email'], ['abx', 'gmail', 'com'], ['abc', 'kiit', 'ac', 'in'], ['Link', 'has', 'been', 'shared', 'Please', 'change', 'your', 'password'], ['Find', 'me', 'a', 'manufacturer', 'nearby'], ['The', 'nearest', 'manufacturer', 'is', 'Vietnam'], ['I', 'want', 'to', 'know', 'the', 'various', 'departments', 'in', 'this', 'company'], ['The', 'department', 'are', 'Projects', 'IT', 'Production', 'OutSource'], ['what', 'are', 'challenging', 'events'], ['what', 'are', 'the', 'threats', 'in', 'the', 'market'], ['Recent', 'news', 'of', 'Demonetisation', 'recession'], ['Our', 'Target', 'customers'], ['who', 'are', 'your', 'key', 'customers'], ['Our', 'target', 'customers', 'are', 'in', 'the', 'range', 'of', 'age', '20', '40'], ['What', 'information', 'is', 'shared', 'with', 'supplier'], ['Production', 'Schedule', 'Delivery', 'Schedule', 'Proxy', 'information', 'about', 'cost'], ['What', 'is', 'the', 'highest', 'grossing', 'product'], ['Laptop', 'with', 'touch', 'sensors', 'and', '360', 'rotation'], ['I', 'want', 'to', 'meet', 'the', 'head', 'of', 'HR', 'IT', 'Projects', 'department'], ['I', 'want', 'to', 'meet', 'head', 'IT', 'Rakesh', 'sharma'], ['I', 'will', 'just', 'check', 'if', 'he', 'is', 'available', 'or', 'on', 'leave'], ['complaint', 'has', 'been', 'raised', 'for', 'Insufficient', 'Team', 'Skills'], ['Miscommunication', 'Conflicts', 'needs', 'to', 'be', 'resolved'], ['Risk', 'Management', 'issue', 'has', 'occured'], ['skilled', 'employees', 'needed', 'urgently'], ['Please', 'contact', 'the', 'project', 'depatment'], ['Lack', 'of', 'product', 'clarity'], ['the', 'specifications', 'of', 'product', 'is', 'not', 'clear', 'to', 'customer', 'what', 'should', 'we', 'do'], ['Please', 'enter', 'product', 'id', 'and', 'customer', 'id', 'specifications', 'shall', 'be', 'sent', 'to', 'user'], ['user', 'needs', 'the', 'updated', 'software', 'version'], ['user', 'demands', 'software', 'updation'], ['version', 'updation', 'request', 'raised'], ['problem', 'related', 'to', 'Job', 'design', 'and', 'analysis'], ['query', 'based', 'on', 'Workforce', 'planning'], ['Training', 'and', 'development', 'issues', 'are', 'to', 'be', 'handled'], ['Compensation', 'and', 'benefits', 'of', 'the', 'working', 'employee'], ['Legal', 'issues', 'of', 'department', 'like', 'accidents', 'in', 'the', 'company'], ['Please', 'Contact', 'the', 'HR', 'team', 'for', 'this', 'problem'], ['Impact', 'on', 'sale'], ['factors', 'impacting', 'sale', 'this', 'year'], ['elections', 'will', 'impact', 'our', 'sale', 'this', 'year'], ['this', 'year', 'our', 'sale', 'might', 'increase', 'during', 'durga', 'puja'], ['this', 'year', 'sale', 'might', 'be', 'impacted', 'due', 'to', 'demonitisation'], ['how', 'have', 'we', 'improved', 'our', 'sale', 'from', 'last', 'year'], ['what', 'is', 'the', 'profit', 'this', 'year'], ['we', 'have', 'improved', 'our', 'sale', 'by', 'increasing', 'our', 'customers', 'upto', '2', 'lakh'], ['profit', 'earned', 'is', '15'], ['how', 'was', 'the', 'customer', 'response'], ['Is', 'the', 'customer', 'happy'], ['what', 'was', 'the', 'customer', 'feedback'], ['Customer', 'was', 'happy', 'and', 'has', 'given', 'good', 'rating'], ['maintainence', 'related', 'queries', 'recorded'], ['lift', 'is', 'not', 'working', 'projector', 'misfuctioning'], ['what', 'are', 'the', 'gadgets', 'in', 'stock'], ['which', 'products', 'we', 'have'], ['hardisk', 'pendrives', 'wireless', 'bluetooth', 'Laptops', 'Gaming', 'Accessories'], ['what', 'is', 'the', 'Commission', 'rate'], ['Commission', 'rate', 'on', 'each', 'product'], ['Commission', 'rate', 'is', '5', 'on', 'laptops', '25', 'on', 'bluetooth', 'device', '10', 'on', 'Desktop'], ['Marry', 'me'], ['I', 'love', 'You'], ['date', 'me'], ['chat', 'with', 'me'], ['I', 'am', 'bored'], ['Please', 'ask', 'organisation', 'related', 'query'], ['why'], ['how'], ['when'], ['I'], ['you'], [\"Can't\", 'Understand', 'Your', 'Question'], ['please', 'elaborate', 'your', 'question'], ['what', 'is', 'the', 'turnover', 'of', 'the', 'company', 'at', 'present'], ['10', 'Million', 'Ton'], ['why', 'is', 'order', '23A12', 'delayed'], ['delay', 'is', 'due', 'to', 'manufacuring'], ['Delay', 'is', 'due', 'to', 'inavailable', 'components'], ['why', 'is', 'order', '23A12', 'delayed'], ['delay', 'is', 'due', 'to', 'manufacuring'], ['Delay', 'is', 'due', 'to', 'inavailable', 'components'], ['what', 'is', 'your', 'name'], ['what', 'should', 'I', 'call', 'you'], [\"I'm\", 'Bruno'], ['Hey', \"I'm\", 'Bruno'], ['how', 'you', 'doing'], ['how', 'are', 'you'], ['Thanks', 'For', 'Asking'], ['How', 'can', 'I', 'help', 'you'], ['How', 'to', 'configure', 'my', 'laptop'], ['software', 'configuration', 'of', 'laptop'], ['steps', 'to', 'configure', 'laptop'], ['How', 'to', 'configure', 'my', 'computer'], ['software', 'configuration', 'of', 'computer'], ['steps', 'to', 'configure', 'computer'], ['How', 'to', 'configure', 'my', 'desktop'], ['software', 'configuration', 'of', 'desktop'], ['steps', 'to', 'configure', 'desktop'], ['search', 'tab', 'control', 'panel', 'select', 'specific', 'application', 'download', 'update', 'give', 'permission'], ['what', 'is', 'the', 'weather', 'today'], [\"It's\", '36C', 'according', 'to', 'accuweather'], ['Is', 'Michel', 'Sharma', 'on', 'leave'], ['Is', 'Siddhart', 'Roy', 'present', 'today'], ['Is', 'Shantanu', 'Bhatt', 'in', 'office'], ['Give', 'me', 'a', 'moment', \"I'll\", 'just', 'check'], ['yes'], ['no'], ['Opening', 'hours', 'of', 'the', 'cafeteria'], ['when', 'does', 'the', 'cafeteria', 'open'], ['office', 'canteen', 'opening', 'time'], ['It', 'is', 'open', 'from', 'Monday', 'Saturday', '9', '00am', '7', '30pm'], ['where', 'is', 'VP', 'cabin'], ['Where', 'is', 'Head', 'IT', 'cabin'], ['Where', 'is', 'AI', 'department'], ['Where', 'is', 'Project', 'head', 'department'], ['where', 'is', 'cafeteria'], ['guide', 'me', 'to', 'the', 'canteen'], ['Block', 'A', '3rd', 'floor', '1st', 'room'], ['Block', 'B', '2nd', 'Floor'], ['Block', 'D', 'Ground', 'Floor'], ['How', 'to', 'improve', 'team', 'members', 'domain', 'knowledge'], ['improving', 'domain', 'knowledge', 'of', 'team', 'members'], ['set', 'up', 'key', 'meetings', 'and', 'workshop', 'create', 'a', 'shared', 'drive', 'for', 'information', 'Hold', 'informal', 'sharing', 'session'], ['Tell', 'me', 'a', 'joke'], ['A', 'perfectionist', 'walked', 'into', 'a', 'bar', 'apparently', 'the', 'bar', \"wasn't\", 'set', 'high', 'enough'], ['I', 'ate', 'a', 'clock', 'yesterday', 'it', 'was', 'very', 'time', 'consuming'], ['Never', 'criticize', 'someone', 'until', \"you've\", 'walked', 'a', 'mile', 'in', 'their', 'shoes', 'That', 'way', 'when', 'you', 'criticize', 'them', 'they', \"won't\", 'be', 'able', 'to', 'hear', 'you', 'from', 'that', 'far', 'away', 'Plus', \"you'll\", 'have', 'their', 'shoes'], ['The', 'world', 'tongue', 'twister', 'champion', 'just', 'got', 'arrested', 'I', 'hear', \"they're\", 'gonna', 'give', 'him', 'a', 'really', 'tough', 'sentence'], ['I', 'own', 'the', \"world's\", 'worst', 'thesaurus', 'Not', 'only', 'is', 'it', 'awful', \"it's\", 'awful'], ['What', 'did', 'the', 'traffic', 'light', 'say', 'to', 'the', 'car', \"Don't\", 'look', 'now', \"I'm\", 'changing'], ['What', 'do', 'you', 'call', 'a', 'snowman', 'with', 'a', 'suntan', 'A', 'puddle'], ['How', 'does', 'a', 'penguin', 'build', 'a', 'house', 'Igloos', 'it', 'together'], ['I', 'went', 'to', 'see', 'the', 'doctor', 'about', 'my', 'short', 'term', 'memory', 'problems', 'the', 'first', 'thing', 'he', 'did', 'was', 'make', 'me', 'pay', 'in', 'advance'], ['As', 'I', 'get', 'older', 'and', 'I', 'remember', 'all', 'the', 'people', 'I', 've', 'lost', 'along', 'the', 'way', 'I', 'think', 'to', 'myself', 'maybe', 'a', 'career', 'as', 'a', 'tour', 'guide', 'wasn', 't', 'for', 'me'], ['o', 'what', 'if', 'I', \"don't\", 'know', 'what', \"'Armageddon'\", 'means', \"It's\", 'not', 'the', 'end', 'of', 'the', 'world']]\ny: ['greeting', 'greeting', 'greeting', 'greeting', 'greeting', 'greeting', 'greeting', 'greeting', 'greeting', 'greeting', 'greeting', 'greeting', 'greeting', 'greeting', 'goodbye', 'goodbye', 'goodbye', 'goodbye', 'goodbye', 'goodbye', 'goodbye', 'goodbye', 'goodbye', 'age', 'age', 'age', 'age', 'age', 'age', 'age', 'age', 'name', 'name', 'name', 'name', 'name', 'name', 'name', 'greeting', 'greeting', 'greeting', 'greeting', 'greeting', 'greeting', 'greeting', 'greeting', 'greeting', 'greeting', 'goodbye', 'goodbye', 'goodbye', 'goodbye', 'goodbye', 'goodbye', 'goodbye', 'goodbye', 'thanks', 'thanks', 'thanks', 'thanks', 'thanks', 'thanks', 'thanks', 'thanks', 'noanswer', 'noanswer', 'noanswer', 'options', 'options', 'options', 'options', 'options', 'order_tracking', 'order_tracking', 'order_tracking', 'order_tracking', 'order_tracking', 'order_tracking', 'order_components', 'order_components', 'order_components', 'missing_id', 'missing_id', 'missing_id', 'missing_id', 'missing_id', 'Location', 'Location', 'Location', 'Location', 'Location', 'Location', 'search_person_by_id', 'search_person_by_id', 'search_person_by_id', 'appointment status', 'appointment status', 'appointment status', 'appointment status', 'check_leave', 'check_leave', 'check_leave', 'check_leave', 'cost_lowering', 'cost_lowering', 'cost_lowering', 'forgot_password', 'forgot_password', 'forgot_password', 'forgot_password', 'forgot_password', 'email_id', 'email_id', 'email_id', 'manufacturing_problems', 'manufacturing_problems', 'search_department', 'search_department', 'competitors_in_market', 'competitors_in_market', 'competitors_in_market', 'key_customers', 'key_customers', 'key_customers', 'supplier_info', 'supplier_info', 'highest_grossing', 'highest_grossing', 'connect_people', 'connect_people', 'connect_people', 'project_handling_queries', 'project_handling_queries', 'project_handling_queries', 'project_handling_queries', 'project_handling_queries', 'solve_problems', 'solve_problems', 'solve_problems', 'version_update', 'version_update', 'version_update', 'HR_related_problem', 'HR_related_problem', 'HR_related_problem', 'HR_related_problem', 'HR_related_problem', 'HR_related_problem', 'factors_impacting_sale', 'factors_impacting_sale', 'factors_impacting_sale', 'factors_impacting_sale', 'factors_impacting_sale', 'predict_performance', 'predict_performance', 'predict_performance', 'predict_performance', 'customer_satisfaction', 'customer_satisfaction', 'customer_satisfaction', 'customer_satisfaction', 'maintainence', 'maintainence', 'gadgets', 'gadgets', 'gadgets', 'commission', 'commission', 'commission', 'invalid', 'invalid', 'invalid', 'invalid', 'invalid', 'invalid', 'noans', 'noans', 'noans', 'noans', 'noans', 'noans', 'noans', 'turnover', 'turnover', 'predict_delay', 'predict_delay', 'predict_delay', 'predict_delay', 'predict_delay', 'predict_delay', 'name', 'name', 'name', 'name', 'about', 'about', 'about', 'about', 'configuration', 'configuration', 'configuration', 'configuration', 'configuration', 'configuration', 'configuration', 'configuration', 'configuration', 'configuration', 'Weather', 'Weather', 'leave', 'leave', 'leave', 'leave', 'leave', 'leave', 'hours', 'hours', 'hours', 'hours', 'cabin', 'cabin', 'cabin', 'cabin', 'cabin', 'cabin', 'cabin', 'cabin', 'cabin', 'domain', 'domain', 'domain', 'joke', 'joke', 'joke', 'joke', 'joke', 'joke', 'joke', 'joke', 'joke', 'joke', 'joke', 'joke']\nt: ['HR_related_problem', 'Location', 'Weather', 'about', 'age', 'appointment status', 'cabin', 'check_leave', 'commission', 'competitors_in_market', 'configuration', 'connect_people', 'cost_lowering', 'customer_satisfaction', 'domain', 'email_id', 'factors_impacting_sale', 'forgot_password', 'gadgets', 'goodbye', 'goodbye', 'greeting', 'greeting', 'highest_grossing', 'hours', 'invalid', 'joke', 'key_customers', 'leave', 'maintainence', 'manufacturing_problems', 'missing_id', 'name', 'name', 'noans', 'noanswer', 'options', 'order_components', 'order_tracking', 'predict_delay', 'predict_delay', 'predict_performance', 'project_handling_queries', 'search_department', 'search_person_by_id', 'solve_problems', 'supplier_info', 'thanks', 'turnover', 'version_update']\n",
     "output_type": "stream"
    }
   ],
   "execution_count": null
  },
  {
   "cell_type": "code",
   "metadata": {
    "tags": [],
    "cell_id": "00005-04239489-603c-4da1-8ae1-260de261d768",
    "deepnote_to_be_reexecuted": false,
    "source_hash": "874cf12f",
    "execution_start": 1656084376630,
    "execution_millis": 0,
    "is_code_hidden": false,
    "deepnote_cell_type": "code",
    "deepnote_cell_height": 261
   },
   "source": "\ndef stemming(words):\n    stemmer=nltk.stem.LancasterStemmer()\n    stem_words=[]\n    for w in words:\n        stem_words.append(stemmer.stem(w.lower()))\n    root_words=sorted(set(stem_words))\n    return root_words\n\n\n",
   "outputs": [],
   "execution_count": null
  },
  {
   "cell_type": "code",
   "metadata": {
    "tags": [],
    "cell_id": "00006-2500cb73-3f57-4394-926b-664a862d30e6",
    "deepnote_to_be_reexecuted": false,
    "source_hash": "bd0e41f5",
    "execution_start": 1656084376631,
    "execution_millis": 44,
    "is_code_hidden": false,
    "deepnote_cell_type": "code",
    "deepnote_cell_height": 134.1875
   },
   "source": "root=stemming(words)\nprint (root)",
   "outputs": [
    {
     "name": "stdout",
     "text": "[\"'armageddon'\", '00am', '10', '15', '1st', '2', '20', '23a12', '23a31', '25', '2nd', '30pm', '32712', '345a23', '360', '36c', '3rd', '40', '431b67', '5', '561a24', '562b78', '7', '9', 'a', 'abc', 'abl', 'about', 'abx', 'ac', 'access', 'accid', 'accord', 'accuweath', 'adv', 'advers', 'afternoon', 'ag', 'again', 'ageless', 'ai', 'al', 'along', 'am', 'an', 'analys', 'and', 'any', 'anyon', 'app', 'apply', 'appoint', 'appoit', 'ar', 'arrest', 'as', 'ask', 'at', 'avail', 'aw', 'away', 'awesom', 'b', 'back', 'bangl', 'bar', 'bas', 'be', 'been', 'benefit', 'berlin', 'bhat', 'block', 'bluetoo', 'bor', 'bruno', 'build', 'by', 'bye', 'cabin', 'cafeter', 'cal', 'can', \"can't\", 'canteen', 'capac', 'car', 'chain', 'challeng', 'champ', 'chang', 'chat', 'chatbot', 'check', 'chin', 'clar', 'clear', 'clock', 'com', 'commit', 'company', 'compens', 'complaint', 'compon', 'compr', 'comput', 'config', 'conflict', 'consum', 'contact', 'control', 'cost', 'could', 'cre', 'crit', 'custom', 'cya', 'd', 'dat', 'day', 'delay', 'delivery', 'demand', 'demonet', 'demonit', 'dep', 'depart', 'design', 'desktop', 'dev', 'develop', 'did', 'dispatch', 'do', 'doct', 'doe', 'doing', 'domain', \"don't\", 'download', 'driv', 'due', 'dur', 'durg', 'each', 'earn', 'elab', 'elect', 'email', 'employ', 'end', 'enough', 'ent', 'etern', 'ev', 'fact', 'far', 'feedback', 'find', 'first', 'fix', 'flo', 'follow', 'for', 'forev', 'forget', 'forgot', 'from', 'gadget', 'gam', 'germany', 'get', 'giv', 'gmail', 'go', 'gonn', 'good', 'goodby', 'got', 'gross', 'ground', 'guid', 'handl', 'happy', 'hardisk', 'has', 'hav', 'he', 'head', 'hear', 'hello', 'help', 'hey', 'hi', 'high', 'highest', 'him', 'hol', 'hold', 'hour', 'hous', 'how', 'hr', 'i', \"i'll\", \"i'm\", 'id', 'if', 'igloo', 'impact', 'improv', 'in', 'inavail', 'increas', 'info', 'inform', 'insufficy', 'into', 'is', 'issu', 'it', \"it's\", 'job', 'jok', 'just', 'key', 'kiit', 'know', 'knowledg', 'kum', 'lack', 'lakh', 'laptop', 'last', 'lat', 'leav', 'leg', 'lift', 'light', 'lik', 'link', 'list', 'loc', 'login', 'look', 'lost', 'lov', 'low', 'mad', 'maintain', 'mak', 'man', 'manod', 'manufac', 'manufact', 'market', 'marry', 'mayb', 'me', 'mean', 'meet', 'mem', 'memb', 'michel', 'might', 'mil', 'miscommun', 'misfuct', 'mom', 'monday', 'mor', 'morn', 'my', 'myself', 'nam', 'namast', 'nand', 'nearby', 'nearest', 'nee', 'nev', 'new', 'next', 'nic', 'no', 'not', 'now', 'o', 'occ', 'of', 'off', 'old', 'on', 'op', 'or', 'ord', 'org', 'our', 'outsourc', 'own', 'panel', 'password', 'pay', 'pendr', 'penguin', 'peopl', 'perfect', 'permit', 'person', 'plan', 'pleas', 'plu', 'pow', 'pres', 'problem', 'proc', 'produc', 'profit', 'project', 'provid', 'proxy', 'puddl', 'puj', 'query', 'quest', 'rais', 'rakesh', 'rang', 'rat', 'reach', 'real', 'rec', 'recess', 'record', 'reduc', 'rel', 'rememb', 'request', 'resolv', 'respons', 'risk', 'room', 'rot', 'roy', 'sad', 'sal', 'saturday', 'say', 'schedule', 'search', 'see', 'select', 'send', 'sens', 'sent', 'sess', 'set', 'shal', 'shantanu', 'shar', 'sharm', 'sho', 'short', 'should', 'siddhart', 'skil', 'snowm', 'softw', 'someon', 'soon', 'sorry', 'spec', 'step', 'stock', 'sujat', 'sunt', 'supply', 'support', 'sur', 't', 'tab', 'talk', 'target', 'team', 'techn', 'tel', 'term', 'thank', 'that', \"that's\", 'the', 'their', 'them', 'ther', 'thesaur', 'they', \"they're\", 'thi', 'thing', 'think', 'threats', 'through', 'til', 'tim', 'to', 'today', 'togeth', 'ton', 'tongu', 'touch', 'tough', 'tour', 'track', 'traff', 'train', 'transport', 'turnov', 'twist', 'understand', 'until', 'up', 'upd', 'upto', 'urg', 'us', 'util', 'vary', 've', 'veloc', 'vert', 'very', 'vietnam', 'vp', 'walk', 'want', 'was', 'wasn', \"wasn't\", 'way', 'we', 'weath', 'went', 'what', 'when', 'wher', 'which', 'who', 'why', 'wif', 'wil', 'wireless', 'with', \"won't\", 'work', 'workforc', 'workshop', 'world', \"world's\", 'worst', 'ye', 'year', 'yesterday', 'yet', 'yo', 'you', \"you'll\", \"you've\"]\n",
     "output_type": "stream"
    }
   ],
   "execution_count": null
  },
  {
   "cell_type": "code",
   "metadata": {
    "tags": [],
    "cell_id": "00007-8cd91bd4-1452-4162-8b79-fddd0aa5a7cd",
    "deepnote_to_be_reexecuted": false,
    "source_hash": "6fedc012",
    "execution_start": 1656084376675,
    "execution_millis": 43,
    "is_code_hidden": false,
    "deepnote_cell_type": "code",
    "deepnote_cell_height": 441
   },
   "source": "def train_data(root,xdata,ydata,tag):\n    stemmer=nltk.stem.LancasterStemmer()\n    train=[]\n    output=[]\n    for i in range(len(xdata)):\n        #for x\n        words_bag=[]\n        temp_words=[]\n        for w in xdata[i]:\n            temp_words.append(stemmer.stem(w.lower()))\n        for w in root:\n            found=1 if w in temp_words else 0\n            words_bag.append(found)\n        train.append(words_bag)\n        # for y\n        row=[0] * len(tag)\n        row[tag.index(ydata[i])]=1\n        output.append(row)\n    train_x=numpy.array(train)\n    train_y=numpy.array(output)\n    return (train_x,train_y)",
   "outputs": [],
   "execution_count": null
  },
  {
   "cell_type": "code",
   "metadata": {
    "tags": [],
    "cell_id": "00008-87bb848c-61ce-432d-9770-d087df96f5fe",
    "deepnote_to_be_reexecuted": false,
    "source_hash": "3610ca34",
    "execution_start": 1656084376719,
    "execution_millis": 224,
    "is_code_hidden": false,
    "deepnote_cell_type": "code",
    "deepnote_cell_height": 167.390625
   },
   "source": "t,o=train_data(root,xdata,ydata,tag)\nprint(\"t:\",t.shape)\nprint(\"o:\",o.shape)",
   "outputs": [
    {
     "name": "stdout",
     "text": "t: (244, 467)\no: (244, 50)\n",
     "output_type": "stream"
    }
   ],
   "execution_count": null
  },
  {
   "cell_type": "code",
   "metadata": {
    "tags": [],
    "cell_id": "00009-e48a1940-bf0d-4fd4-bcc0-6d524ac32eff",
    "deepnote_to_be_reexecuted": false,
    "source_hash": "54a953a9",
    "execution_start": 1656084376936,
    "execution_millis": 0,
    "is_code_hidden": false,
    "deepnote_cell_type": "code",
    "deepnote_cell_height": 459
   },
   "source": "#build model\ndef build_model(train_x,train_y):\n    epochs=1000\n    batch_size=16\n    model=tf.keras.Sequential()\n    model.add(tf.keras.layers.Dense(batch_size,input_shape=(t.shape[1],)))\n    model.add(tf.keras.layers.Dense(batch_size)) #hidden layer\n    model.add(tf.keras.layers.Dense(batch_size)) #hidden layer\n    model.add(tf.keras.layers.Dense(len(train_y[0]),activation=\"softmax\")) #output layer\n    model.compile(optimizer= \"adam\",loss=\"categorical_crossentropy\",metrics=[\"accuracy\"])\n    model.fit(train_x,train_y,epochs=epochs,batch_size=batch_size,verbose=0)\n    #model evaluation\n    model.summary()\n    test_loss,test_acc=model.evaluate(train_x,train_y,verbose=0)\n    print(\"\\nLoss:{} Acc:{}\".format(test_loss,test_acc))\n    return model\n    \n\n\n\n\n",
   "outputs": [],
   "execution_count": null
  },
  {
   "cell_type": "code",
   "metadata": {
    "tags": [],
    "cell_id": "00010-9ade5e5a-856d-404e-b85b-fb802aad0a14",
    "deepnote_to_be_reexecuted": false,
    "source_hash": "c9089d34",
    "execution_start": 1656084377035,
    "execution_millis": 84117,
    "deepnote_cell_type": "code",
    "deepnote_cell_height": 518.390625,
    "deepnote_output_heights": [
     null,
     21.1875
    ]
   },
   "source": "build_model(t,o)",
   "outputs": [
    {
     "name": "stdout",
     "text": "Model: \"sequential\"\n_________________________________________________________________\n Layer (type)                Output Shape              Param #   \n=================================================================\n dense (Dense)               (None, 16)                7488      \n                                                                 \n dense_1 (Dense)             (None, 16)                272       \n                                                                 \n dense_2 (Dense)             (None, 16)                272       \n                                                                 \n dense_3 (Dense)             (None, 50)                850       \n                                                                 \n=================================================================\nTotal params: 8,882\nTrainable params: 8,882\nNon-trainable params: 0\n_________________________________________________________________\n\nLoss:0.013565974310040474 Acc:0.9918032884597778\n",
     "output_type": "stream"
    },
    {
     "output_type": "execute_result",
     "execution_count": 11,
     "data": {
      "text/plain": "<keras.engine.sequential.Sequential at 0x7fe938c50b20>"
     },
     "metadata": {}
    }
   ],
   "execution_count": null
  },
  {
   "cell_type": "code",
   "metadata": {
    "tags": [],
    "cell_id": "00011-e02afc26-ddef-4508-a96e-4d22d81c4ad4",
    "deepnote_to_be_reexecuted": false,
    "source_hash": "1e9e92a3",
    "execution_start": 1656084461206,
    "execution_millis": 2301941,
    "is_code_hidden": false,
    "deepnote_cell_type": "code",
    "deepnote_cell_height": 405
   },
   "source": "def prepare_model(ds,model_file=\"/work/Legion - The AI powered ChatBot/model.chatbot\"):\n    \n    words,xdata,ydata,tag=tokenize_words(data)\n    \n    root=stemming(words)\n    if os.path.isdir(model_file):\n        \n        shutil.rmtree('model.chatbot')\n        t,o=train_data(root,xdata,ydata,tag)\n        model=build_model(t,o)\n        model.save(model_file)\n        print(\"Loading model Successfully\")\n    else:\n        \n        t,o=train_data(root,xdata,ydata,tag)\n        model=build_model(t,o)\n        model.save(model_file)\n    return (model,root,tag)\n",
   "outputs": [],
   "execution_count": null
  },
  {
   "cell_type": "code",
   "metadata": {
    "tags": [],
    "cell_id": "00012-f419c01b-424e-47d4-9eb9-f3a8d8714e3f",
    "deepnote_to_be_reexecuted": false,
    "source_hash": "b03d1be1",
    "execution_start": 1656084461207,
    "execution_millis": 75215,
    "deepnote_cell_type": "code",
    "deepnote_cell_height": 505.59375
   },
   "source": "model,root,tag=prepare_model(data)",
   "outputs": [
    {
     "name": "stdout",
     "text": "Model: \"sequential_1\"\n_________________________________________________________________\n Layer (type)                Output Shape              Param #   \n=================================================================\n dense_4 (Dense)             (None, 16)                7488      \n                                                                 \n dense_5 (Dense)             (None, 16)                272       \n                                                                 \n dense_6 (Dense)             (None, 16)                272       \n                                                                 \n dense_7 (Dense)             (None, 50)                850       \n                                                                 \n=================================================================\nTotal params: 8,882\nTrainable params: 8,882\nNon-trainable params: 0\n_________________________________________________________________\n\nLoss:0.013556286692619324 Acc:0.9918032884597778\nINFO:tensorflow:Assets written to: /work/Legion - The AI powered ChatBot/model.chatbot/assets\nLoading model Successfully\n",
     "output_type": "stream"
    }
   ],
   "execution_count": null
  },
  {
   "cell_type": "code",
   "metadata": {
    "tags": [],
    "cell_id": "00013-81fb75f3-360b-4d1c-939b-7d77294ff9fd",
    "deepnote_to_be_reexecuted": false,
    "source_hash": "6cd8190",
    "execution_start": 1656084536442,
    "execution_millis": 5,
    "is_code_hidden": false,
    "deepnote_cell_type": "code",
    "deepnote_cell_height": 747
   },
   "source": "def chat(model,root,tag,data):\n    print(\"Lets Talk with me(Type exit to stop)\")\n    while(True):\n        ques=input(\"You:\")\n        if ques.lower()==\"exit\":break;\n        \n\n        tokens=nltk.regexp_tokenize(ques,\"[\\w']+\")\n        \n        \n        stemmer=nltk.stem.LancasterStemmer()\n        stem_tokens=[]\n        for token in tokens:\n            stem_tokens.append(stemmer.stem(token.lower()))\n        \n        bag_of_words=[]\n        for w in root:\n            found=1 if w in stem_tokens else 0\n         \n            bag_of_words.append(found)\n        \n        print(len(bag_of_words))\n        prediction=model.predict(numpy.array([bag_of_words]))\n        max_index=numpy.argmax(prediction)\n        max_probabilities=prediction[0][max_index]\n        print(ques)\n        if max_probabilities < 0.8:\n            print (\"Sorry, I don't know this.(confidence:{})\".format(max_probabilities))\n            continue\n        else:\n            found_tag=tag[max_index]   \n\n        for intents in data:\n            if intents['tag']==found_tag:\n                print(\"{} (confidence: {})\".format(numpy.random.choice(intents['responses']),max_probabilities))\n                    \n\n                ",
   "outputs": [],
   "execution_count": null
  },
  {
   "cell_type": "code",
   "metadata": {
    "tags": [],
    "cell_id": "00014-a09b54cf-234b-44e7-be3f-46e42b90f8ae",
    "deepnote_to_be_reexecuted": false,
    "source_hash": "2cd3e272",
    "execution_start": 1656084536467,
    "execution_millis": 228652,
    "owner_user_id": "eb1512e7-bac5-4ff0-b9c4-46c1cf658c72",
    "deepnote_cell_type": "code",
    "deepnote_cell_height": 701
   },
   "source": "chat(model,root,tag,data)",
   "outputs": [
    {
     "name": "stdout",
     "text": "Lets Talk with me(Type exit to stop)\n467\n1/1 [==============================] - 0s 224ms/step\nTell me jo\nSorry, I don't know this.(confidence:0.7728855609893799)\n467\n1/1 [==============================] - 0s 77ms/step\nTell me a joke\nNever criticize someone until you've walked a mile in their shoes. That way, when you criticize them, they won't be able to hear you from that far away. Plus, you'll have their shoes. (confidence: 0.999995231628418)\n467\n1/1 [==============================] - 0s 153ms/step\nTell me a joke\nI ate a clock yesterday, it was very time-consuming (confidence: 0.999995231628418)\n467\n1/1 [==============================] - 0s 60ms/step\nTel\nCan't Understand Your Question (confidence: 0.9971407651901245)\n467\n1/1 [==============================] - 0s 52ms/step\nTell me a jok\no what if I don't know what 'Armageddon' means? It's not the end of the world. (confidence: 0.999995231628418)\n467\n1/1 [==============================] - 0s 51ms/step\nTell me a jok\nWhat did the traffic light say to the car? \"Don't look now, I'm changing.\" (confidence: 0.999995231628418)\n467\n1/1 [==============================] - 0s 45ms/step\nTell me a joe\nAs I get older and I remember all the people I’ve lost along the way, I think to myself, maybe a career as a tour guide wasn’t for me. (confidence: 0.9912001490592957)\n467\n1/1 [==============================] - 0s 26ms/step\nTell me a joke\nHow does a penguin build a house? Igloos it together (confidence: 0.999995231628418)\n467\n1/1 [==============================] - 0s 45ms/step\nTell me a j\nWhat did the traffic light say to the car? \"Don't look now, I'm changing.\" (confidence: 0.9912001490592957)\n467\n1/1 [==============================] - 0s 52ms/step\nTell me a joke\nI own the world's worst thesaurus. Not only is it awful, it's awful. (confidence: 0.999995231628418)\n467\n1/1 [==============================] - 0s 103ms/step\nTell me a jok\nAs I get older and I remember all the people I’ve lost along the way, I think to myself, maybe a career as a tour guide wasn’t for me. (confidence: 0.999995231628418)\n467\n1/1 [==============================] - 0s 98ms/step\nTell me a jok\nI went to see the doctor about my short-term memory problems – the first thing he did was make me pay in advance (confidence: 0.999995231628418)\n467\n1/1 [==============================] - 0s 66ms/step\ne\nplease elaborate your question (confidence: 0.9975202679634094)\n467\n1/1 [==============================] - 0s 75ms/step\ne\nCan't Understand Your Question (confidence: 0.9975202679634094)\n",
     "output_type": "stream"
    }
   ],
   "execution_count": null
  },
  {
   "cell_type": "code",
   "metadata": {
    "cell_id": "e9d91e7d14b84b9b8a0393fb8a03336d",
    "tags": [],
    "deepnote_to_be_reexecuted": false,
    "source_hash": "cddda481",
    "execution_start": 1656084765123,
    "execution_millis": 13,
    "is_code_hidden": false,
    "deepnote_cell_type": "code",
    "deepnote_cell_height": 201.6875
   },
   "source": "\n \nrootdir = '/work/Legion - The AI powered ChatBot'\nfor it in os.scandir(rootdir):\n    if it.is_dir():\n        print(it.path)",
   "outputs": [
    {
     "name": "stdout",
     "text": "/work/Legion - The AI powered ChatBot/model.chatbot\n",
     "output_type": "stream"
    }
   ],
   "execution_count": null
  },
  {
   "cell_type": "markdown",
   "source": "<a style='text-decoration:none;line-height:16px;display:flex;color:#5B5B62;padding:10px;justify-content:end;' href='https://deepnote.com?utm_source=created-in-deepnote-cell&projectId=ac3d1c9e-c820-4000-97f9-b25922505111' target=\"_blank\">\n<img alt='Created in deepnote.com' style='display:inline;max-height:16px;margin:0px;margin-right:7.5px;' src='data:image/svg+xml;base64,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' > </img>\nCreated in <span style='font-weight:600;margin-left:4px;'>Deepnote</span></a>",
   "metadata": {
    "tags": [],
    "created_in_deepnote_cell": true,
    "deepnote_cell_type": "markdown"
   }
  }
 ],
 "nbformat": 4,
 "nbformat_minor": 2,
 "metadata": {
  "orig_nbformat": 2,
  "deepnote": {
   "is_reactive": false
  },
  "deepnote_notebook_id": "995326a2-0a3f-4616-b1b2-ae4459ffab6d",
  "deepnote_execution_queue": [],
  "deepnote_app_layout": "dashboard"
 }
}